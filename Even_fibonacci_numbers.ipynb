{
  "nbformat": 4,
  "nbformat_minor": 0,
  "metadata": {
    "colab": {
      "provenance": [],
      "authorship_tag": "ABX9TyNUSkl4uKW0J2dI0CtW6FHk",
      "include_colab_link": true
    },
    "kernelspec": {
      "name": "python3",
      "display_name": "Python 3"
    },
    "language_info": {
      "name": "python"
    }
  },
  "cells": [
    {
      "cell_type": "markdown",
      "metadata": {
        "id": "view-in-github",
        "colab_type": "text"
      },
      "source": [
        "<a href=\"https://colab.research.google.com/github/L16Aya/ap155_OUTPUTS/blob/main/Even_fibonacci_numbers.ipynb\" target=\"_parent\"><img src=\"https://colab.research.google.com/assets/colab-badge.svg\" alt=\"Open In Colab\"/></a>"
      ]
    },
    {
      "cell_type": "code",
      "execution_count": 1,
      "metadata": {
        "colab": {
          "base_uri": "https://localhost:8080/"
        },
        "id": "wlVKtwgjBdMF",
        "outputId": "ce092feb-dd7d-4353-9356-b39c207543c3"
      },
      "outputs": [
        {
          "output_type": "stream",
          "name": "stdout",
          "text": [
            "4613732\n"
          ]
        }
      ],
      "source": [
        "limit = 4_000_000\n",
        "a, b = 1, 2\n",
        "total = 0\n",
        "\n",
        "while a <= limit:\n",
        "    if a % 2 == 0:\n",
        "        total += a\n",
        "    a, b = b, a + b\n",
        "\n",
        "print(total)"
      ]
    }
  ]
}