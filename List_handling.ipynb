{
  "nbformat": 4,
  "nbformat_minor": 0,
  "metadata": {
    "colab": {
      "provenance": [],
      "authorship_tag": "ABX9TyNoPyxIrDrG8tJSCzUT69vH",
      "include_colab_link": true
    },
    "kernelspec": {
      "name": "python3",
      "display_name": "Python 3"
    },
    "language_info": {
      "name": "python"
    }
  },
  "cells": [
    {
      "cell_type": "markdown",
      "metadata": {
        "id": "view-in-github",
        "colab_type": "text"
      },
      "source": [
        "<a href=\"https://colab.research.google.com/github/L16Aya/ap155_OUTPUTS/blob/main/List_handling.ipynb\" target=\"_parent\"><img src=\"https://colab.research.google.com/assets/colab-badge.svg\" alt=\"Open In Colab\"/></a>"
      ]
    },
    {
      "cell_type": "code",
      "execution_count": 40,
      "metadata": {
        "colab": {
          "base_uri": "https://localhost:8080/"
        },
        "id": "doJXmlCy8ogO",
        "outputId": "30eb61d6-87ad-4df6-bf06-a3e36275a9b2"
      },
      "outputs": [
        {
          "output_type": "stream",
          "name": "stdout",
          "text": [
            "first output: [[2, 5, 1, 8, 6], [3, 3, 4, 3, 1], [2, 9, 4, 1, 6], [2, 2, 6, 4, 7]]\n",
            "second output: 32\n",
            "third output: [[1, 4], [2, 5], [3, 6]]\n",
            "fourth output: [[22, 28], [49, 64]]\n"
          ]
        }
      ],
      "source": [
        "import random\n",
        "\n",
        "def random_integer_matrix(nrows, ncols):\n",
        "  matrix = []\n",
        "  for i in range(nrows):\n",
        "    row = [random.randint(1,9) for j in range(ncols)]\n",
        "    matrix.append(row)\n",
        "\n",
        "  return matrix\n",
        "\n",
        "print (\"first output:\" , random_integer_matrix(4,5))\n",
        "\n",
        "def scalar_product(list1, list2):\n",
        "  sum = 0\n",
        "  for k in range(len(list1)):\n",
        "    sum += list1[k] * list2[k]\n",
        "  return sum\n",
        "\n",
        "print (\"second output:\" , scalar_product([1,2,3],[4,5,6]))\n",
        "\n",
        "def transpose_matrix(orig_matrix):\n",
        "  transposed_matrix = []\n",
        "  for l in range(len(orig_matrix[0])):\n",
        "    row2 = []\n",
        "    for m in range(len(orig_matrix)):\n",
        "      row2.append(orig_matrix[m][l])\n",
        "    transposed_matrix.append(row2)\n",
        "  return transposed_matrix\n",
        "\n",
        "print (\"third output:\" , transpose_matrix([[1,2,3],[4,5,6]]))\n",
        "\n",
        "def matrix_multiply(left_matrix, right_matrix):\n",
        "  if len(left_matrix[0]) != len(right_matrix):\n",
        "    return None\n",
        "\n",
        "  right_transposed_matrix = transpose_matrix(right_matrix)\n",
        "\n",
        "  result = []\n",
        "  for n in range (len(left_matrix)):\n",
        "    result_row = []\n",
        "    for o in range (len(right_transposed_matrix)):\n",
        "      result_row.append(scalar_product(left_matrix[n], right_transposed_matrix[o]))\n",
        "    result.append(result_row)\n",
        "  return result\n",
        "\n",
        "print (\"fourth output:\" , matrix_multiply([[1,2,3],[4,5,6]], [[1,2],[3,4],[5,6]]))\n",
        "\n"
      ]
    }
  ]
}