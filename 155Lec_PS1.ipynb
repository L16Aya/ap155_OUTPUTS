{
  "nbformat": 4,
  "nbformat_minor": 0,
  "metadata": {
    "colab": {
      "provenance": [],
      "authorship_tag": "ABX9TyMuyJnW3IjJ8Z1ujlArgnAJ",
      "include_colab_link": true
    },
    "kernelspec": {
      "name": "python3",
      "display_name": "Python 3"
    },
    "language_info": {
      "name": "python"
    }
  },
  "cells": [
    {
      "cell_type": "markdown",
      "metadata": {
        "id": "view-in-github",
        "colab_type": "text"
      },
      "source": [
        "<a href=\"https://colab.research.google.com/github/L16Aya/ap155_OUTPUTS/blob/main/155Lec_PS1.ipynb\" target=\"_parent\"><img src=\"https://colab.research.google.com/assets/colab-badge.svg\" alt=\"Open In Colab\"/></a>"
      ]
    },
    {
      "cell_type": "code",
      "execution_count": 2,
      "metadata": {
        "colab": {
          "base_uri": "https://localhost:8080/"
        },
        "id": "_Q9GQnBT8UJ1",
        "outputId": "567bc5b1-7539-4666-d4ab-3be902c1468f"
      },
      "outputs": [
        {
          "output_type": "stream",
          "name": "stdout",
          "text": [
            "Original Matrix A and b:\n",
            " [[4. 4. 8. 4. 1.]\n",
            " [4. 5. 3. 7. 2.]\n",
            " [8. 3. 9. 9. 3.]\n",
            " [4. 7. 9. 5. 4.]] \n",
            "\n",
            "Steps WITHOUT Pivoting:\n",
            "Step 0 (Augmented [A|b]):\n",
            "[[4. 4. 8. 4. 1.]\n",
            " [4. 5. 3. 7. 2.]\n",
            " [8. 3. 9. 9. 3.]\n",
            " [4. 7. 9. 5. 4.]]\n",
            "\n",
            "Step 1 (Augmented [A|b]):\n",
            "[[ 4.  4.  8.  4.  1.]\n",
            " [ 0.  1. -5.  3.  1.]\n",
            " [ 0. -5. -7.  1.  1.]\n",
            " [ 0.  3.  1.  1.  3.]]\n",
            "\n",
            "Step 2 (Augmented [A|b]):\n",
            "[[  4.   4.   8.   4.   1.]\n",
            " [  0.   1.  -5.   3.   1.]\n",
            " [  0.   0. -32.  16.   6.]\n",
            " [  0.   0.  16.  -8.   0.]]\n",
            "\n",
            "Step 3 (Augmented [A|b]):\n",
            "[[  4.   4.   8.   4.   1.]\n",
            " [  0.   1.  -5.   3.   1.]\n",
            " [  0.   0. -32.  16.   6.]\n",
            " [  0.   0.   0.   0.   3.]]\n",
            "\n",
            "Steps WITH Pivoting:\n",
            "Step 0 (Augmented [A|b]):\n",
            "[[4. 4. 8. 4. 1.]\n",
            " [4. 5. 3. 7. 2.]\n",
            " [8. 3. 9. 9. 3.]\n",
            " [4. 7. 9. 5. 4.]]\n",
            "\n",
            "Step 1 (Augmented [A|b]):\n",
            "[[ 8.   3.   9.   9.   3. ]\n",
            " [ 0.   3.5 -1.5  2.5  0.5]\n",
            " [ 0.   2.5  3.5 -0.5 -0.5]\n",
            " [ 0.   5.5  4.5  0.5  2.5]]\n",
            "\n",
            "Step 2 (Augmented [A|b]):\n",
            "[[ 8.          3.          9.          9.          3.        ]\n",
            " [ 0.          5.5         4.5         0.5         2.5       ]\n",
            " [ 0.          0.          1.45454545 -0.72727273 -1.63636364]\n",
            " [ 0.          0.         -4.36363636  2.18181818 -1.09090909]]\n",
            "\n",
            "Step 3 (Augmented [A|b]):\n",
            "[[ 8.          3.          9.          9.          3.        ]\n",
            " [ 0.          5.5         4.5         0.5         2.5       ]\n",
            " [ 0.          0.         -4.36363636  2.18181818 -1.09090909]\n",
            " [ 0.          0.          0.          0.         -2.        ]]\n",
            "\n"
          ]
        }
      ],
      "source": [
        "import numpy as np\n",
        "\n",
        "# Given matrix A and vector b\n",
        "A = np.array([4., 4, 8, 4,\n",
        "              4, 5, 3, 7,\n",
        "              8, 3, 9, 9,\n",
        "              4, 7, 9, 5]).reshape(4,4)\n",
        "b = np.array([1., 2, 3, 4])\n",
        "\n",
        "def gaussian_steps_no_pivot(A, b):\n",
        "    A = A.copy().astype(float)\n",
        "    b = b.copy().astype(float)\n",
        "    n = len(b)\n",
        "\n",
        "    steps = [(A.copy(), b.copy())]\n",
        "\n",
        "    for k in range(n-1):\n",
        "        for i in range(k+1, n):\n",
        "            factor = A[i,k] / A[k,k]\n",
        "            A[i,k:] -= factor * A[k,k:]\n",
        "            b[i] -= factor * b[k]\n",
        "        steps.append((A.copy(), b.copy()))\n",
        "\n",
        "    return steps\n",
        "\n",
        "def gaussian_steps_with_pivot(A, b):\n",
        "    A = A.copy().astype(float)\n",
        "    b = b.copy().astype(float)\n",
        "    n = len(b)\n",
        "\n",
        "    steps = [(A.copy(), b.copy())]\n",
        "\n",
        "    for k in range(n-1):\n",
        "        # Partial pivoting\n",
        "        max_index = np.argmax(np.abs(A[k:,k])) + k\n",
        "        if max_index != k:\n",
        "            A[[k, max_index]] = A[[max_index, k]]\n",
        "            b[[k, max_index]] = b[[max_index, k]]\n",
        "\n",
        "        for i in range(k+1, n):\n",
        "            factor = A[i,k] / A[k,k]\n",
        "            A[i,k:] -= factor * A[k,k:]\n",
        "            b[i] -= factor * b[k]\n",
        "        steps.append((A.copy(), b.copy()))\n",
        "\n",
        "    return steps\n",
        "\n",
        "# Generate steps\n",
        "steps_no_pivot = gaussian_steps_no_pivot(A, b)\n",
        "steps_with_pivot = gaussian_steps_with_pivot(A, b)\n",
        "\n",
        "# Display results\n",
        "def print_steps(title, steps):\n",
        "    print(title)\n",
        "    for idx, (A_step, b_step) in enumerate(steps):\n",
        "        aug = np.hstack([A_step, b_step.reshape(-1,1)])\n",
        "        print(f\"Step {idx} (Augmented [A|b]):\\n{aug}\\n\")\n",
        "\n",
        "print(\"Original Matrix A and b:\\n\", np.hstack([A, b.reshape(-1,1)]), \"\\n\")\n",
        "\n",
        "print_steps(\"Steps WITHOUT Pivoting:\", steps_no_pivot)\n",
        "print_steps(\"Steps WITH Pivoting:\", steps_with_pivot)"
      ]
    },
    {
      "cell_type": "markdown",
      "source": [
        "4.17 Pivoting usually helps because it avoids division by zero and makes elimination more stable, but in this matrix it cannot fix the deeper issue since the matrix is singular and has no unique solution. The determinant is zero, meaning the equations are dependent, so Gaussian elimination will always end with a row of zeros regardless of pivoting. Replacing a zero pivot with a very small number like 10⁻²⁰ does not actually solve the problem, it only hides the singularity and produces meaningless results instead of valid solutions."
      ],
      "metadata": {
        "id": "yKdkahDqQM6S"
      }
    },
    {
      "cell_type": "code",
      "source": [
        "import numpy as np\n",
        "\n",
        "def jacobi_cyclic(n, max_iter=1000, tol=1e-5):\n",
        "    # Matrix A (cyclic tridiagonal)\n",
        "    A = np.zeros((n, n))\n",
        "    for i in range(n):\n",
        "        A[i, i] = 4\n",
        "        if i > 0:\n",
        "            A[i, i-1] = -1\n",
        "        if i < n-1:\n",
        "            A[i, i+1] = -1\n",
        "    # Add cyclic connections\n",
        "    A[0, n-1] = -1\n",
        "    A[n-1, 0] = -1\n",
        "\n",
        "    # b vector (all ones)\n",
        "    b = np.ones(n)\n",
        "\n",
        "    # Initial guess (all zeros)\n",
        "    x = np.zeros(n)\n",
        "\n",
        "    # For iteration\n",
        "    x_new = np.zeros_like(x)\n",
        "\n",
        "    for k in range(max_iter):\n",
        "        for i in range(n):\n",
        "            # Compute sum of neighbors, skipping diagonal\n",
        "            s = 0\n",
        "            for j in range(n):\n",
        "                if j != i:\n",
        "                    s += A[i, j] * x[j]\n",
        "            x_new[i] = (b[i] - s) / A[i, i]\n",
        "\n",
        "        # Check convergence\n",
        "        if np.linalg.norm(x_new - x, ord=np.inf) < tol:\n",
        "            print(f\"Converged after {k+1} iterations\")\n",
        "            return x_new\n",
        "\n",
        "        # Update\n",
        "        x[:] = x_new[:]\n",
        "\n",
        "    print(\"Did not fully converge\")\n",
        "    return x_new\n",
        "\n",
        "# Try for n=10 and n=20\n",
        "sol10 = jacobi_cyclic(10)\n",
        "sol20 = jacobi_cyclic(20)\n",
        "\n",
        "print(\"Solution for n=10:\\n\", sol10)\n",
        "print(\"\\nSolution for n=20:\\n\", sol20)\n"
      ],
      "metadata": {
        "colab": {
          "base_uri": "https://localhost:8080/"
        },
        "id": "3A7vf1moQQbk",
        "outputId": "8c285afb-222c-4e9b-99a1-1369528d0ecd"
      },
      "execution_count": 1,
      "outputs": [
        {
          "output_type": "stream",
          "name": "stdout",
          "text": [
            "Converged after 16 iterations\n",
            "Converged after 16 iterations\n",
            "Solution for n=10:\n",
            " [0.49999237 0.49999237 0.49999237 0.49999237 0.49999237 0.49999237\n",
            " 0.49999237 0.49999237 0.49999237 0.49999237]\n",
            "\n",
            "Solution for n=20:\n",
            " [0.49999237 0.49999237 0.49999237 0.49999237 0.49999237 0.49999237\n",
            " 0.49999237 0.49999237 0.49999237 0.49999237 0.49999237 0.49999237\n",
            " 0.49999237 0.49999237 0.49999237 0.49999237 0.49999237 0.49999237\n",
            " 0.49999237 0.49999237]\n"
          ]
        }
      ]
    }
  ]
}
