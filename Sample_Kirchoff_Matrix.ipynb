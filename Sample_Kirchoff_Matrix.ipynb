{
  "nbformat": 4,
  "nbformat_minor": 0,
  "metadata": {
    "colab": {
      "provenance": [],
      "authorship_tag": "ABX9TyOVK3+jETOoElOZ+dehfFbo",
      "include_colab_link": true
    },
    "kernelspec": {
      "name": "python3",
      "display_name": "Python 3"
    },
    "language_info": {
      "name": "python"
    }
  },
  "cells": [
    {
      "cell_type": "markdown",
      "metadata": {
        "id": "view-in-github",
        "colab_type": "text"
      },
      "source": [
        "<a href=\"https://colab.research.google.com/github/L16Aya/ap155_OUTPUTS/blob/main/Sample_Kirchoff_Matrix.ipynb\" target=\"_parent\"><img src=\"https://colab.research.google.com/assets/colab-badge.svg\" alt=\"Open In Colab\"/></a>"
      ]
    },
    {
      "cell_type": "code",
      "execution_count": 2,
      "metadata": {
        "colab": {
          "base_uri": "https://localhost:8080/"
        },
        "id": "gtP4B-D3_ArQ",
        "outputId": "7885e8e0-c2ab-46e6-c702-7f013f13c667"
      },
      "outputs": [
        {
          "output_type": "stream",
          "name": "stdout",
          "text": [
            "=== Kirchhoff Matrix ===\n",
            "[[-1. -1.  0.  0.]\n",
            " [ 1.  0.  1.  0.]\n",
            " [ 0.  1.  0.  1.]\n",
            " [ 1. -1. -1.  1.]]\n",
            "\n",
            "Voltage Vector: [  5. -10.  10.   0.]\n",
            "\n",
            "=== Branch Currents ===\n",
            "R1 current = -7.500 A\n",
            "R2 current = 2.500 A\n",
            "R3 current = -2.500 A\n",
            "R4 current = 7.500 A\n",
            "\n",
            "=== Equivalent Resistance ===\n",
            "Total current drawn from V1 = 5.000 A\n",
            "R_eq = 1.000 ohm\n"
          ]
        }
      ],
      "source": [
        "import numpy as np\n",
        "\n",
        "V1 = 5.0\n",
        "V2 = 10.0\n",
        "R  = 1.0\n",
        "\n",
        "K = np.array([\n",
        "    [-R, -R,  0,  0],\n",
        "    [ R,  0,  R,  0],\n",
        "    [ 0,  R,  0,  R],\n",
        "    [ 1, -1, -1,  1]\n",
        "], dtype=float)\n",
        "\n",
        "V = np.array([V1, -V2, V2, 0], dtype=float)\n",
        "\n",
        "I = np.linalg.solve(K, V)\n",
        "i1, i2, i3, i4 = I\n",
        "\n",
        "I_R1 = i1\n",
        "I_R2 = i2\n",
        "I_R3 = i3\n",
        "I_R4 = i4\n",
        "\n",
        "I_from_V1 = -(i1 + i2)\n",
        "R_eq = V1 / I_from_V1\n",
        "\n",
        "print(\"=== Kirchhoff Matrix ===\")\n",
        "print(K)\n",
        "print(\"\\nVoltage Vector:\", V)\n",
        "\n",
        "print(\"\\n=== Branch Currents ===\")\n",
        "print(f\"R1 current = {I_R1:.3f} A\")\n",
        "print(f\"R2 current = {I_R2:.3f} A\")\n",
        "print(f\"R3 current = {I_R3:.3f} A\")\n",
        "print(f\"R4 current = {I_R4:.3f} A\")\n",
        "\n",
        "print(\"\\n=== Equivalent Resistance ===\")\n",
        "print(f\"Total current drawn from V1 = {I_from_V1:.3f} A\")\n",
        "print(f\"R_eq = {R_eq:.3f} ohm\")"
      ]
    }
  ]
}